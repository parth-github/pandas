{
  "nbformat": 4,
  "nbformat_minor": 0,
  "metadata": {
    "colab": {
      "provenance": [],
      "toc_visible": true,
      "authorship_tag": "ABX9TyN4/2Wu1ATsLgAiTiFH7qyl",
      "include_colab_link": true
    },
    "kernelspec": {
      "name": "python3",
      "display_name": "Python 3"
    },
    "language_info": {
      "name": "python"
    }
  },
  "cells": [
    {
      "cell_type": "markdown",
      "metadata": {
        "id": "view-in-github",
        "colab_type": "text"
      },
      "source": [
        "<a href=\"https://colab.research.google.com/github/parth-github/pandas/blob/master/Create_DataFrame.ipynb\" target=\"_parent\"><img src=\"https://colab.research.google.com/assets/colab-badge.svg\" alt=\"Open In Colab\"/></a>"
      ]
    },
    {
      "cell_type": "code",
      "execution_count": null,
      "metadata": {
        "id": "zFdThYaT_4HJ"
      },
      "outputs": [],
      "source": []
    },
    {
      "cell_type": "markdown",
      "source": [
        "# DataFrame\n",
        "\n",
        "Different ways to create a Pandas Dataframe from the lists:\n",
        "\n",
        "- Create Dataframe from List using Constructer\n",
        "- Create DataFrame from List using Dictionary\n",
        "- Create DataFrame from list using zip()\n",
        "- Create DataFrame from list by changing data type\n",
        "- Create DataFrame from list using multi-dimensional list\n",
        "- Create DataFrame from List with index and column names"
      ],
      "metadata": {
        "id": "k75dvHgRA2Jm"
      }
    },
    {
      "cell_type": "code",
      "source": [
        "import pandas as pd"
      ],
      "metadata": {
        "id": "Na9gz6ZvA8O4"
      },
      "execution_count": 1,
      "outputs": []
    },
    {
      "cell_type": "code",
      "source": [
        "# @title Create Dataframe from List using Constructer\n",
        "#list of strings\n",
        "lst = ['Geeks', 'For', 'Geeks', 'is',\n",
        "            'portal', 'for', 'Geeks']\n",
        "\n",
        "# Calling DataFrame constructor on list\n",
        "df = pd.DataFrame(lst)\n",
        "print(df)"
      ],
      "metadata": {
        "id": "ITsw9GFuA_6d",
        "outputId": "79b8b8dc-b515-46e4-c4b7-82ba796a52d8",
        "colab": {
          "base_uri": "https://localhost:8080/"
        }
      },
      "execution_count": 3,
      "outputs": [
        {
          "output_type": "stream",
          "name": "stdout",
          "text": [
            "        0\n",
            "0   Geeks\n",
            "1     For\n",
            "2   Geeks\n",
            "3      is\n",
            "4  portal\n",
            "5     for\n",
            "6   Geeks\n"
          ]
        }
      ]
    },
    {
      "cell_type": "code",
      "source": [
        "# @title Create DataFrame from List using Dictionary\n",
        "\n",
        "# list of name, degree, score\n",
        "nme = [\"aparna\", \"pankaj\", \"sudhir\", \"Geeku\"]\n",
        "deg = [\"MBA\", \"BCA\", \"M.Tech\", \"MBA\"]\n",
        "scr = [90, 40, 80, 98]\n",
        "\n",
        "# dictionary of lists\n",
        "dict = {'name': nme, 'degree': deg, 'score': scr}\n",
        "\n",
        "df = pd.DataFrame(dict)\n",
        "\n",
        "print(df)\n"
      ],
      "metadata": {
        "id": "t8IpSUVjBcgR",
        "outputId": "d2604f14-04df-4ab7-8590-b2e23210c4eb",
        "colab": {
          "base_uri": "https://localhost:8080/"
        }
      },
      "execution_count": 4,
      "outputs": [
        {
          "output_type": "stream",
          "name": "stdout",
          "text": [
            "     name  degree  score\n",
            "0  aparna     MBA     90\n",
            "1  pankaj     BCA     40\n",
            "2  sudhir  M.Tech     80\n",
            "3   Geeku     MBA     98\n"
          ]
        }
      ]
    },
    {
      "cell_type": "code",
      "source": [
        "# @title Create DataFrame from list using zip()\n",
        "\n",
        "# list of strings\n",
        "lst = ['Geeks', 'For', 'Geeks', 'is', 'portal', 'for', 'Geeks']\n",
        "\n",
        "# list of int\n",
        "lst2 = [11, 22, 33, 44, 55, 66, 77]\n",
        "\n",
        "# Calling DataFrame constructor after zipping\n",
        "# both lists, with columns specified\n",
        "df = pd.DataFrame(list(zip(lst, lst2)),\n",
        "\t\t\tcolumns =['Name', 'val'])\n",
        "print(df)\n"
      ],
      "metadata": {
        "id": "P7B8zm09Bkfi",
        "outputId": "823e94d2-ee3e-486e-e876-6d321e29f05d",
        "colab": {
          "base_uri": "https://localhost:8080/"
        }
      },
      "execution_count": 5,
      "outputs": [
        {
          "output_type": "stream",
          "name": "stdout",
          "text": [
            "     Name  val\n",
            "0   Geeks   11\n",
            "1     For   22\n",
            "2   Geeks   33\n",
            "3      is   44\n",
            "4  portal   55\n",
            "5     for   66\n",
            "6   Geeks   77\n"
          ]
        }
      ]
    },
    {
      "cell_type": "code",
      "source": [
        "# @title Create DataFrame from list by changing data type\n",
        "\n",
        "# List1\n",
        "lst = [['tom', 'reacher', 25], ['krish', 'pete', 30],\n",
        "\t['nick', 'wilson', 26], ['juli', 'williams', 22]]\n",
        "\n",
        "df = pd.DataFrame(lst, columns =['FName', 'LName', 'Age'], dtype = float)\n",
        "print(df)\n",
        "df.info()\n"
      ],
      "metadata": {
        "id": "FrQvw3mqBwlv",
        "outputId": "8ac9f045-6fd6-4cbc-abd1-d57ae1bd8669",
        "colab": {
          "base_uri": "https://localhost:8080/"
        }
      },
      "execution_count": 7,
      "outputs": [
        {
          "output_type": "stream",
          "name": "stdout",
          "text": [
            "   FName     LName   Age\n",
            "0    tom   reacher  25.0\n",
            "1  krish      pete  30.0\n",
            "2   nick    wilson  26.0\n",
            "3   juli  williams  22.0\n",
            "<class 'pandas.core.frame.DataFrame'>\n",
            "RangeIndex: 4 entries, 0 to 3\n",
            "Data columns (total 3 columns):\n",
            " #   Column  Non-Null Count  Dtype  \n",
            "---  ------  --------------  -----  \n",
            " 0   FName   4 non-null      object \n",
            " 1   LName   4 non-null      object \n",
            " 2   Age     4 non-null      float64\n",
            "dtypes: float64(1), object(2)\n",
            "memory usage: 224.0+ bytes\n"
          ]
        },
        {
          "output_type": "stream",
          "name": "stderr",
          "text": [
            "<ipython-input-7-439ccf2b9b66>:7: FutureWarning: Could not cast to float64, falling back to object. This behavior is deprecated. In a future version, when a dtype is passed to 'DataFrame', either all columns will be cast to that dtype, or a TypeError will be raised.\n",
            "  df = pd.DataFrame(lst, columns =['FName', 'LName', 'Age'], dtype = float)\n"
          ]
        }
      ]
    },
    {
      "cell_type": "code",
      "source": [
        "# @title Create DataFrame from list using multi-dimensional list\n",
        "\n",
        "# List1\n",
        "lst = [['tom', 25], ['krish', 30],\n",
        "       ['nick', 26], ['juli', 22]]\n",
        "\n",
        "df = pd.DataFrame(lst, columns =['Name', 'Age'])"
      ],
      "metadata": {
        "id": "-vVo9fI6CNzF"
      },
      "execution_count": null,
      "outputs": []
    },
    {
      "cell_type": "code",
      "source": [
        "# @title Create DataFrame from List with index and column names\n",
        "\n",
        "# list of strings\n",
        "lst = ['Geeks', 'For', 'Geeks', 'is', 'portal', 'for', 'Geeks']\n",
        "\n",
        "# Calling DataFrame constructor on list\n",
        "# with indices and columns specified\n",
        "df = pd.DataFrame(lst, index =['a', 'b', 'c', 'd', 'e', 'f', 'g'],\n",
        "\t\t\t\t\t\t\t\t\t\t\tcolumns =['Names'])\n",
        "print(df)\n"
      ],
      "metadata": {
        "id": "oCCJtUOPCbYk",
        "outputId": "192e027d-e39f-4743-f0a3-b6e29b71c33a",
        "colab": {
          "base_uri": "https://localhost:8080/"
        }
      },
      "execution_count": 8,
      "outputs": [
        {
          "output_type": "stream",
          "name": "stdout",
          "text": [
            "    Names\n",
            "a   Geeks\n",
            "b     For\n",
            "c   Geeks\n",
            "d      is\n",
            "e  portal\n",
            "f     for\n",
            "g   Geeks\n"
          ]
        }
      ]
    },
    {
      "cell_type": "markdown",
      "source": [],
      "metadata": {
        "id": "imtcfBp2BW2-"
      }
    }
  ]
}